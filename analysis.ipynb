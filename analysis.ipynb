{
 "cells": [
  {
   "cell_type": "code",
   "execution_count": 6,
   "source": [
    "import json\r\n",
    "import os"
   ],
   "outputs": [],
   "metadata": {}
  },
  {
   "cell_type": "code",
   "execution_count": 7,
   "source": [
    "def read_one(filename):\r\n",
    "    with open(filename) as f:\r\n",
    "        return json.load(f)"
   ],
   "outputs": [],
   "metadata": {}
  },
  {
   "cell_type": "code",
   "execution_count": 8,
   "source": [
    "everything = read_one(\"dataset/combined.json\")"
   ],
   "outputs": [],
   "metadata": {}
  },
  {
   "cell_type": "code",
   "execution_count": 9,
   "source": [
    "print(\"Winners per year:\")\r\n",
    "print({year: sum([1 if len(tau['awards']) > 0 else 0 for tau in everything[year]]) for year in everything})"
   ],
   "outputs": [
    {
     "output_type": "stream",
     "name": "stdout",
     "text": [
      "Winners per year:\n",
      "{'arvr-hackathon-2017': 14, 'mit-reality-hack-2020': 14, 'realityvrhack': 0, 'rv2019': 17}\n"
     ]
    }
   ],
   "metadata": {}
  }
 ],
 "metadata": {
  "orig_nbformat": 4,
  "language_info": {
   "name": "python",
   "version": "3.7.6",
   "mimetype": "text/x-python",
   "codemirror_mode": {
    "name": "ipython",
    "version": 3
   },
   "pygments_lexer": "ipython3",
   "nbconvert_exporter": "python",
   "file_extension": ".py"
  },
  "kernelspec": {
   "name": "python3",
   "display_name": "Python 3.7.6 64-bit ('base': conda)"
  },
  "interpreter": {
   "hash": "657bda745a6ac4a79e0175a39be5ddbf4848d98f57085fe1a51b1498700eaa2a"
  }
 },
 "nbformat": 4,
 "nbformat_minor": 2
}