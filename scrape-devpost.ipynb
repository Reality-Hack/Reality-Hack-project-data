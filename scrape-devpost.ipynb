{
 "cells": [
  {
   "cell_type": "markdown",
   "source": [
    "Tutorial: <https://towardsdatascience.com/how-to-web-scrape-with-python-in-4-minutes-bc49186a8460>"
   ],
   "metadata": {}
  },
  {
   "cell_type": "code",
   "execution_count": 151,
   "source": [
    "import requests\r\n",
    "import urllib.request\r\n",
    "from urllib.parse import urlparse\r\n",
    "import time\r\n",
    "from bs4 import BeautifulSoup\r\n",
    "from markdownify import markdownify\r\n",
    "import json\r\n",
    "import os"
   ],
   "outputs": [],
   "metadata": {}
  },
  {
   "cell_type": "code",
   "execution_count": 191,
   "source": [
    "def get_soup(url):\r\n",
    "    response = requests.get(url)\r\n",
    "    return BeautifulSoup(response.text,\"html.parser\")\r\n",
    "\r\n",
    "    \r\n",
    "def get_event_project_pages(subdomain):\r\n",
    "    x = []\r\n",
    "    i=0\r\n",
    "    while(True):\r\n",
    "        i+=1\r\n",
    "        y =  get_event_project_pages_paginated(subdomain,i)\r\n",
    "        if len(y) == 0:\r\n",
    "            return x\r\n",
    "        else:\r\n",
    "            x += y\r\n",
    "\r\n",
    "def get_event_project_pages_paginated(subdomain, page):\r\n",
    "    url = f'https://{subdomain}.devpost.com/project-gallery?page={page}'\r\n",
    "    print(url)\r\n",
    "    blocks = get_soup(url).find_all('a',class_=\"link-to-software\")\r\n",
    "    return [block['href'] for block in blocks]\r\n",
    "\r\n",
    "\r\n",
    "def extract_project_page(url):\r\n",
    "    soup = get_soup(url)\r\n",
    "    content_html = str(get_content_html(soup))\r\n",
    "    if(content_html == '' or content_html == 'None'):\r\n",
    "        print(f'[!] Empty content html from {url}')\r\n",
    "    return {\r\n",
    "        'source': url,\r\n",
    "        'title': soup.find('meta',{'property':'og:title'})['content'],\r\n",
    "        'blurb': soup.find('meta',{'property':'og:description'})['content'],\r\n",
    "        'awards': [str(k.next_sibling.string).strip() for k in soup.find_all('span',class_='winner')],\r\n",
    "        'videos': [k['src'] for k in soup.find_all(class_='video-embed')],\r\n",
    "        'images': [{'title': k['data-title'], 'src': k['href']} for k in soup.find_all('a',{'data-title':True})],\r\n",
    "        'team': [extract_user_info(li) for li in soup.find_all('li',class_='software-team-member')],\r\n",
    "        'built_with': [a.string for a in soup.find_all('span',class_='cp-tag')],\r\n",
    "        'content_html': content_html,\r\n",
    "        'content_md': markdownify(str(content_html),heading_style=\"atx\"),\r\n",
    "    }\r\n",
    "\r\n",
    "def extract_user_info(li):\r\n",
    "    photo_block = li.find('img',class_='software-member-photo')\r\n",
    "    bubble = li.find('div',class_='bubble')\r\n",
    "\r\n",
    "    return {\r\n",
    "        'name': photo_block['title'],\r\n",
    "        'about': '' if bubble is None else bubble.find('p').text,\r\n",
    "        'photo': photo_block['src']\r\n",
    "    }\r\n",
    "\r\n",
    "def get_content_html(soup):\r\n",
    "    div0 = soup.find('div',id='app-details-left')\r\n",
    "    if div0 is None: return ''\r\n",
    "    return div0.find('div',{'id':False},recursive=False)\r\n"
   ],
   "outputs": [],
   "metadata": {}
  },
  {
   "cell_type": "code",
   "execution_count": 193,
   "source": [
    "for year in ['realityvrhack','arvr-hackathon-2017','rv2019','mit-reality-hack-2020']:\r\n",
    "    projects = get_event_project_pages(year)\r\n",
    "    for project_url in projects:\r\n",
    "        try:\r\n",
    "            our_id = urlparse(project_url).path[len('/software/'):]\r\n",
    "            data = extract_project_page(project_url)\r\n",
    "            output_file = f'dataset/{year}/{our_id}.json'\r\n",
    "            os.makedirs(os.path.dirname(output_file), exist_ok=True)\r\n",
    "            with open(output_file,'w') as outfile:\r\n",
    "                json.dump(data,outfile,indent=4)\r\n",
    "        except Exception as e:\r\n",
    "            print(f\"ERROR handling {project_url}\")\r\n",
    "            raise e"
   ],
   "outputs": [
    {
     "output_type": "stream",
     "name": "stdout",
     "text": [
      "https://realityvrhack.devpost.com/project-gallery?page=1\n",
      "https://realityvrhack.devpost.com/project-gallery?page=2\n",
      "https://realityvrhack.devpost.com/project-gallery?page=3\n",
      "https://realityvrhack.devpost.com/project-gallery?page=4\n",
      "https://realityvrhack.devpost.com/project-gallery?page=5\n",
      "https://arvr-hackathon-2017.devpost.com/project-gallery?page=1\n",
      "https://arvr-hackathon-2017.devpost.com/project-gallery?page=2\n",
      "https://arvr-hackathon-2017.devpost.com/project-gallery?page=3\n",
      "https://arvr-hackathon-2017.devpost.com/project-gallery?page=4\n",
      "https://rv2019.devpost.com/project-gallery?page=1\n",
      "https://rv2019.devpost.com/project-gallery?page=2\n",
      "https://rv2019.devpost.com/project-gallery?page=3\n",
      "https://rv2019.devpost.com/project-gallery?page=4\n",
      "https://rv2019.devpost.com/project-gallery?page=5\n",
      "https://rv2019.devpost.com/project-gallery?page=6\n",
      "https://mit-reality-hack-2020.devpost.com/project-gallery?page=1\n",
      "https://mit-reality-hack-2020.devpost.com/project-gallery?page=2\n",
      "https://mit-reality-hack-2020.devpost.com/project-gallery?page=3\n",
      "https://mit-reality-hack-2020.devpost.com/project-gallery?page=4\n"
     ]
    }
   ],
   "metadata": {}
  }
 ],
 "metadata": {
  "orig_nbformat": 4,
  "language_info": {
   "name": "python",
   "version": "3.9.7",
   "mimetype": "text/x-python",
   "codemirror_mode": {
    "name": "ipython",
    "version": 3
   },
   "pygments_lexer": "ipython3",
   "nbconvert_exporter": "python",
   "file_extension": ".py"
  },
  "kernelspec": {
   "name": "python3",
   "display_name": "Python 3.9.7 64-bit"
  },
  "interpreter": {
   "hash": "8000f286f7e233ed5f50dd449c35b6b7844b83d6705166bbca3325ade7af81b4"
  }
 },
 "nbformat": 4,
 "nbformat_minor": 2
}